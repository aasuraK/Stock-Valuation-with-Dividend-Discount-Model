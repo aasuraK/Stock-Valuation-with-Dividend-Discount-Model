{
  "nbformat": 4,
  "nbformat_minor": 0,
  "metadata": {
    "colab": {
      "provenance": []
    },
    "kernelspec": {
      "name": "python3",
      "display_name": "Python 3"
    },
    "language_info": {
      "name": "python"
    }
  },
  "cells": [
    {
      "cell_type": "code",
      "execution_count": 1,
      "metadata": {
        "colab": {
          "base_uri": "https://localhost:8080/"
        },
        "id": "pXLKtUJLp3tO",
        "outputId": "127040c6-05ec-4e96-9538-d4b39aadbe25"
      },
      "outputs": [
        {
          "output_type": "stream",
          "name": "stdout",
          "text": [
            "Requirement already satisfied: yfinance in /usr/local/lib/python3.10/dist-packages (0.2.50)\n",
            "Requirement already satisfied: pandas>=1.3.0 in /usr/local/lib/python3.10/dist-packages (from yfinance) (2.2.2)\n",
            "Requirement already satisfied: numpy>=1.16.5 in /usr/local/lib/python3.10/dist-packages (from yfinance) (1.26.4)\n",
            "Requirement already satisfied: requests>=2.31 in /usr/local/lib/python3.10/dist-packages (from yfinance) (2.32.3)\n",
            "Requirement already satisfied: multitasking>=0.0.7 in /usr/local/lib/python3.10/dist-packages (from yfinance) (0.0.11)\n",
            "Requirement already satisfied: lxml>=4.9.1 in /usr/local/lib/python3.10/dist-packages (from yfinance) (5.3.0)\n",
            "Requirement already satisfied: platformdirs>=2.0.0 in /usr/local/lib/python3.10/dist-packages (from yfinance) (4.3.6)\n",
            "Requirement already satisfied: pytz>=2022.5 in /usr/local/lib/python3.10/dist-packages (from yfinance) (2024.2)\n",
            "Requirement already satisfied: frozendict>=2.3.4 in /usr/local/lib/python3.10/dist-packages (from yfinance) (2.4.6)\n",
            "Requirement already satisfied: peewee>=3.16.2 in /usr/local/lib/python3.10/dist-packages (from yfinance) (3.17.8)\n",
            "Requirement already satisfied: beautifulsoup4>=4.11.1 in /usr/local/lib/python3.10/dist-packages (from yfinance) (4.12.3)\n",
            "Requirement already satisfied: html5lib>=1.1 in /usr/local/lib/python3.10/dist-packages (from yfinance) (1.1)\n",
            "Requirement already satisfied: soupsieve>1.2 in /usr/local/lib/python3.10/dist-packages (from beautifulsoup4>=4.11.1->yfinance) (2.6)\n",
            "Requirement already satisfied: six>=1.9 in /usr/local/lib/python3.10/dist-packages (from html5lib>=1.1->yfinance) (1.17.0)\n",
            "Requirement already satisfied: webencodings in /usr/local/lib/python3.10/dist-packages (from html5lib>=1.1->yfinance) (0.5.1)\n",
            "Requirement already satisfied: python-dateutil>=2.8.2 in /usr/local/lib/python3.10/dist-packages (from pandas>=1.3.0->yfinance) (2.8.2)\n",
            "Requirement already satisfied: tzdata>=2022.7 in /usr/local/lib/python3.10/dist-packages (from pandas>=1.3.0->yfinance) (2024.2)\n",
            "Requirement already satisfied: charset-normalizer<4,>=2 in /usr/local/lib/python3.10/dist-packages (from requests>=2.31->yfinance) (3.4.0)\n",
            "Requirement already satisfied: idna<4,>=2.5 in /usr/local/lib/python3.10/dist-packages (from requests>=2.31->yfinance) (3.10)\n",
            "Requirement already satisfied: urllib3<3,>=1.21.1 in /usr/local/lib/python3.10/dist-packages (from requests>=2.31->yfinance) (2.2.3)\n",
            "Requirement already satisfied: certifi>=2017.4.17 in /usr/local/lib/python3.10/dist-packages (from requests>=2.31->yfinance) (2024.12.14)\n",
            "The fair price of AAPL based on the DDM is: $5.00\n"
          ]
        }
      ],
      "source": [
        "!pip install yfinance\n",
        "import yfinance as yf\n",
        "\n",
        "# Function to calculate the fair price using the Dividend Discount Model (DDM)\n",
        "def calculate_fair_price(dividend, cost_of_equity, growth_rate):\n",
        "    \"\"\"\n",
        "    Calculate the fair price of a stock using the Dividend Discount Model (DDM).\n",
        "\n",
        "    Parameters:\n",
        "    dividend (float): The dividend for next year.\n",
        "    cost_of_equity (float): The cost of equity as a percentage (e.g., 10% is 0.10).\n",
        "    growth_rate (float): The growth rate of dividends as a percentage (e.g., 5% is 0.05).\n",
        "\n",
        "    Returns:\n",
        "    float: The fair price per share.\n",
        "    \"\"\"\n",
        "    # Calculate fair price using the DDM formula\n",
        "    fair_price = dividend / (cost_of_equity - growth_rate)\n",
        "    return fair_price\n",
        "\n",
        "# Function to get the last dividend of the stock using Yahoo Finance\n",
        "def get_last_dividend(stock_symbol):\n",
        "    stock = yf.Ticker(stock_symbol)\n",
        "    try:\n",
        "        # Fetch dividends and get the most recent one\n",
        "        dividends = stock.dividends\n",
        "        last_dividend = dividends.iloc[-1] if len(dividends) > 0 else 0\n",
        "        return last_dividend\n",
        "    except Exception as e:\n",
        "        print(f\"Error fetching data: {e}\")\n",
        "        return 0\n",
        "\n",
        "# Example stock symbol (e.g., Apple)\n",
        "stock_symbol = \"AAPL\"\n",
        "\n",
        "# Fetch the last dividend\n",
        "last_dividend = get_last_dividend(stock_symbol)\n",
        "\n",
        "# Example inputs for cost of equity and growth rate\n",
        "cost_of_equity = 0.10   # Example: 10% cost of equity\n",
        "growth_rate = 0.05      # Example: 5% dividend growth rate\n",
        "\n",
        "# Check if last dividend was fetched successfully\n",
        "if last_dividend > 0:\n",
        "    # Calculate the fair price of the stock\n",
        "    fair_price = calculate_fair_price(last_dividend, cost_of_equity, growth_rate)\n",
        "    print(f\"The fair price of {stock_symbol} based on the DDM is: ${fair_price:.2f}\")\n",
        "else:\n",
        "    print(f\"Unable to fetch the dividend data for {stock_symbol}.\")\n"
      ]
    }
  ]
}